{
 "cells": [
  {
   "cell_type": "markdown",
   "id": "58e30401-8bb8-4143-883f-0656bda35222",
   "metadata": {},
   "source": [
    "# Actividad 1: Trabajando con Bags\n",
    "1. Crea un Dask Bag a partir de una lista de diccionarios\n",
    "2. Realiza una serie de transformaciones en el Bag, como mapeo, filtrado y agregación.\n",
    "3. Muestra el resultado final y explora su estructura."
   ]
  },
  {
   "cell_type": "markdown",
   "id": "79090a3c-68c4-453a-9648-34f4c09dfcb9",
   "metadata": {},
   "source": [
    "Primero que nada debemos importar la libreria de Dask **\"bag\"** esto se hace de la siguiente manera:"
   ]
  },
  {
   "cell_type": "code",
   "execution_count": 1,
   "id": "c6f63362-57cb-4504-830c-4f10123de54b",
   "metadata": {},
   "outputs": [],
   "source": [
    "import dask.bag as db\n",
    "import graphviz"
   ]
  },
  {
   "cell_type": "markdown",
   "id": "98bb1e71-7262-4453-83fa-ecdd156d714f",
   "metadata": {},
   "source": [
    "Ahora podemos crear un diccionario normal en python en mi caso creare un **diccionario** con 5 elementos con id nombre y nota"
   ]
  },
  {
   "cell_type": "code",
   "execution_count": 2,
   "id": "f679b338-53f2-4484-a276-383bc0a8b350",
   "metadata": {},
   "outputs": [],
   "source": [
    "diccionario =[\n",
    "    {'id':1,'nombre':'Juanito','nota':45},\n",
    "    {'id':2,'nombre':'Cristiansito','nota':44},\n",
    "    {'id':3,'nombre':'Cesarito','nota':45},\n",
    "    {'id':4,'nombre':'Felipito','nota':39},\n",
    "    {'id':5,'nombre':'Andresito','nota':44},\n",
    "]"
   ]
  },
  {
   "cell_type": "markdown",
   "id": "0efd4b87-b25a-4ffc-acef-eefc5f091b11",
   "metadata": {},
   "source": [
    "Aqui es donde creamos el dask bag a partir del diccionario utilizando _**dask.bag.from_sequence**_"
   ]
  },
  {
   "cell_type": "code",
   "execution_count": 3,
   "id": "d6a0595d-a975-4195-8ae2-64f875e7efd0",
   "metadata": {},
   "outputs": [],
   "source": [
    "bag_con_diccionario = db.from_sequence(diccionario)"
   ]
  },
  {
   "cell_type": "markdown",
   "id": "9346473e-d520-4418-a803-cb853ecb2053",
   "metadata": {},
   "source": [
    "Vizualizamos como quedaron las bag, con el diccionario."
   ]
  },
  {
   "cell_type": "code",
   "execution_count": 4,
   "id": "ee935665-3226-4e65-9ef2-d1deb26ff1e7",
   "metadata": {},
   "outputs": [
    {
     "data": {
      "image/png": "[encoded data removed]",
      "text/plain": [
       "<IPython.core.display.Image object>"
      ]
     },
     "execution_count": 4,
     "metadata": {},
     "output_type": "execute_result"
    }
   ],
   "source": [
    "bag_con_diccionario.visualize(filename='dask.png')"
   ]
  },
  {
   "cell_type": "markdown",
   "id": "0b0907fa-a44e-47cd-b052-c4bdcd443f1e",
   "metadata": {},
   "source": [
    "Ahora podemos aplicarle las transformaciones vamos a ocupar **filter** primero, nos mostrará el nombre aquellos que tiene nota mayor a 40."
   ]
  },
  {
   "cell_type": "code",
   "execution_count": 5,
   "id": "e850a834-7d0d-4a2f-94b5-71e11fbd5896",
   "metadata": {},
   "outputs": [],
   "source": [
    "resultados = bag_con_diccionario.filter(lambda x: x['nota']>40).pluck('nombre').compute()"
   ]
  },
  {
   "cell_type": "markdown",
   "id": "11534331-7bdf-4fa7-b813-b957a3ab44fa",
   "metadata": {},
   "source": [
    "Vemos los resultados."
   ]
  },
  {
   "cell_type": "code",
   "execution_count": 6,
   "id": "a43fd81e-3956-48d3-861d-c8f89869ebcd",
   "metadata": {},
   "outputs": [
    {
     "name": "stdout",
     "output_type": "stream",
     "text": [
      "['Juanito', 'Cristiansito', 'Cesarito', 'Andresito']\n"
     ]
    }
   ],
   "source": [
    "print(resultados)"
   ]
  },
  {
   "cell_type": "code",
   "execution_count": 7,
   "id": "ab077f59-ddc1-4a36-aaa9-6ce7c0c3ecd5",
   "metadata": {},
   "outputs": [
    {
     "data": {
      "image/png": "[encoded data removed]",
      "text/plain": [
       "<IPython.core.display.Image object>"
      ]
     },
     "execution_count": 7,
     "metadata": {},
     "output_type": "execute_result"
    }
   ],
   "source": [
    "bag_con_diccionario.visualize(filename='dask2.png')  "
   ]
  },
  {
   "cell_type": "markdown",
   "id": "d13643b1-a0d1-4038-9491-a19b0142d64b",
   "metadata": {},
   "source": [
    "Para usar **map**, vamos hacer que a todos se les sume 5 puntos."
   ]
  },
  {
   "cell_type": "code",
   "execution_count": 8,
   "id": "b5ccaa68-03f5-415e-b558-8a1f6bf33ae9",
   "metadata": {},
   "outputs": [],
   "source": [
    "resultados = bag_con_diccionario.map(lambda x: x['nota']+5).compute()"
   ]
  },
  {
   "cell_type": "code",
   "execution_count": 9,
   "id": "4db2e096-8d9a-4e19-b36b-ced1c6c9cdd1",
   "metadata": {},
   "outputs": [
    {
     "name": "stdout",
     "output_type": "stream",
     "text": [
      "[50, 49, 50, 44, 49]\n"
     ]
    }
   ],
   "source": [
    "print(resultados)"
   ]
  },
  {
   "cell_type": "markdown",
   "id": "9d997e4b-3c9c-4505-b877-311514fccd9c",
   "metadata": {},
   "source": [
    "Este es el ultima parte donde realizaremos la **agregación**, lastimosamente me genera un error de 'TypeError: unsupported operand type(s) for +: 'dict' and 'int' ' que no supe como solucionar."
   ]
  },
  {
   "cell_type": "code",
   "execution_count": 11,
   "id": "c18f8054-b867-42fa-814c-89d278a27cad",
   "metadata": {},
   "outputs": [],
   "source": [
    "def suma_acumulativa(acumulador, diccionarios):\n",
    "     return acumulador + diccionarios['nota']"
   ]
  },
  {
   "cell_type": "code",
   "execution_count": 12,
   "id": "005fc28d-e0ca-4cc3-83fc-778d97085c7f",
   "metadata": {},
   "outputs": [],
   "source": [
    "resultado_agregado = bag_con_diccionario.fold(suma_acumulativa)"
   ]
  },
  {
   "cell_type": "code",
   "execution_count": 13,
   "id": "86381b5b-c192-4a0b-9891-583daac51513",
   "metadata": {},
   "outputs": [
    {
     "ename": "TypeError",
     "evalue": "unsupported operand type(s) for +: 'dict' and 'int'\n\nTraceback\n---------\n  File \"/usr/local/lib/python3.8/site-packages/dask/local.py\", line 224, in execute_task\n    result = _execute_task(task, data)\n  File \"/usr/local/lib/python3.8/site-packages/dask/core.py\", line 119, in _execute_task\n    return func(*(_execute_task(a, cache) for a in args))\n  File \"/usr/local/lib/python3.8/site-packages/dask/bag/core.py\", line 2498, in empty_safe_aggregate\n    return empty_safe_apply(func, parts2, is_last)\n  File \"/usr/local/lib/python3.8/site-packages/dask/bag/core.py\", line 2489, in empty_safe_apply\n    return func(part)\n  File \"/usr/local/lib/python3.8/site-packages/toolz/functoolz.py\", line 304, in __call__\n    return self._partial(*args, **kwargs)\n  File \"/tmp/ipykernel_328/2781502800.py\", line 2, in suma_acumulativa\n",
     "output_type": "error",
     "traceback": [
      "\u001b[0;31m---------------------------------------------------------------------------\u001b[0m",
      "\u001b[0;31mTypeError\u001b[0m                                 Traceback (most recent call last)",
      "Cell \u001b[0;32mIn[13], line 1\u001b[0m\n\u001b[0;32m----> 1\u001b[0m resultado_final \u001b[38;5;241m=\u001b[39m \u001b[43mresultado_agregado\u001b[49m\u001b[38;5;241;43m.\u001b[39;49m\u001b[43mcompute\u001b[49m\u001b[43m(\u001b[49m\u001b[43m)\u001b[49m\n",
      "File \u001b[0;32m/usr/local/lib/python3.8/site-packages/dask/base.py:314\u001b[0m, in \u001b[0;36mDaskMethodsMixin.compute\u001b[0;34m(self, **kwargs)\u001b[0m\n\u001b[1;32m    290\u001b[0m \u001b[38;5;28;01mdef\u001b[39;00m \u001b[38;5;21mcompute\u001b[39m(\u001b[38;5;28mself\u001b[39m, \u001b[38;5;241m*\u001b[39m\u001b[38;5;241m*\u001b[39mkwargs):\n\u001b[1;32m    291\u001b[0m \u001b[38;5;250m    \u001b[39m\u001b[38;5;124;03m\"\"\"Compute this dask collection\u001b[39;00m\n\u001b[1;32m    292\u001b[0m \n\u001b[1;32m    293\u001b[0m \u001b[38;5;124;03m    This turns a lazy Dask collection into its in-memory equivalent.\u001b[39;00m\n\u001b[0;32m   (...)\u001b[0m\n\u001b[1;32m    312\u001b[0m \u001b[38;5;124;03m    dask.compute\u001b[39;00m\n\u001b[1;32m    313\u001b[0m \u001b[38;5;124;03m    \"\"\"\u001b[39;00m\n\u001b[0;32m--> 314\u001b[0m     (result,) \u001b[38;5;241m=\u001b[39m \u001b[43mcompute\u001b[49m\u001b[43m(\u001b[49m\u001b[38;5;28;43mself\u001b[39;49m\u001b[43m,\u001b[49m\u001b[43m \u001b[49m\u001b[43mtraverse\u001b[49m\u001b[38;5;241;43m=\u001b[39;49m\u001b[38;5;28;43;01mFalse\u001b[39;49;00m\u001b[43m,\u001b[49m\u001b[43m \u001b[49m\u001b[38;5;241;43m*\u001b[39;49m\u001b[38;5;241;43m*\u001b[39;49m\u001b[43mkwargs\u001b[49m\u001b[43m)\u001b[49m\n\u001b[1;32m    315\u001b[0m     \u001b[38;5;28;01mreturn\u001b[39;00m result\n",
      "File \u001b[0;32m/usr/local/lib/python3.8/site-packages/dask/base.py:599\u001b[0m, in \u001b[0;36mcompute\u001b[0;34m(traverse, optimize_graph, scheduler, get, *args, **kwargs)\u001b[0m\n\u001b[1;32m    596\u001b[0m     keys\u001b[38;5;241m.\u001b[39mappend(x\u001b[38;5;241m.\u001b[39m__dask_keys__())\n\u001b[1;32m    597\u001b[0m     postcomputes\u001b[38;5;241m.\u001b[39mappend(x\u001b[38;5;241m.\u001b[39m__dask_postcompute__())\n\u001b[0;32m--> 599\u001b[0m results \u001b[38;5;241m=\u001b[39m \u001b[43mschedule\u001b[49m\u001b[43m(\u001b[49m\u001b[43mdsk\u001b[49m\u001b[43m,\u001b[49m\u001b[43m \u001b[49m\u001b[43mkeys\u001b[49m\u001b[43m,\u001b[49m\u001b[43m \u001b[49m\u001b[38;5;241;43m*\u001b[39;49m\u001b[38;5;241;43m*\u001b[39;49m\u001b[43mkwargs\u001b[49m\u001b[43m)\u001b[49m\n\u001b[1;32m    600\u001b[0m \u001b[38;5;28;01mreturn\u001b[39;00m repack([f(r, \u001b[38;5;241m*\u001b[39ma) \u001b[38;5;28;01mfor\u001b[39;00m r, (f, a) \u001b[38;5;129;01min\u001b[39;00m \u001b[38;5;28mzip\u001b[39m(results, postcomputes)])\n",
      "File \u001b[0;32m/usr/local/lib/python3.8/site-packages/dask/multiprocessing.py:233\u001b[0m, in \u001b[0;36mget\u001b[0;34m(dsk, keys, num_workers, func_loads, func_dumps, optimize_graph, pool, initializer, chunksize, **kwargs)\u001b[0m\n\u001b[1;32m    228\u001b[0m \u001b[38;5;66;03m# Note former versions used a multiprocessing Manager to share\u001b[39;00m\n\u001b[1;32m    229\u001b[0m \u001b[38;5;66;03m# a Queue between parent and workers, but this is fragile on Windows\u001b[39;00m\n\u001b[1;32m    230\u001b[0m \u001b[38;5;66;03m# (issue #1652).\u001b[39;00m\n\u001b[1;32m    231\u001b[0m \u001b[38;5;28;01mtry\u001b[39;00m:\n\u001b[1;32m    232\u001b[0m     \u001b[38;5;66;03m# Run\u001b[39;00m\n\u001b[0;32m--> 233\u001b[0m     result \u001b[38;5;241m=\u001b[39m \u001b[43mget_async\u001b[49m\u001b[43m(\u001b[49m\n\u001b[1;32m    234\u001b[0m \u001b[43m        \u001b[49m\u001b[43mpool\u001b[49m\u001b[38;5;241;43m.\u001b[39;49m\u001b[43msubmit\u001b[49m\u001b[43m,\u001b[49m\n\u001b[1;32m    235\u001b[0m \u001b[43m        \u001b[49m\u001b[43mpool\u001b[49m\u001b[38;5;241;43m.\u001b[39;49m\u001b[43m_max_workers\u001b[49m\u001b[43m,\u001b[49m\n\u001b[1;32m    236\u001b[0m \u001b[43m        \u001b[49m\u001b[43mdsk3\u001b[49m\u001b[43m,\u001b[49m\n\u001b[1;32m    237\u001b[0m \u001b[43m        \u001b[49m\u001b[43mkeys\u001b[49m\u001b[43m,\u001b[49m\n\u001b[1;32m    238\u001b[0m \u001b[43m        \u001b[49m\u001b[43mget_id\u001b[49m\u001b[38;5;241;43m=\u001b[39;49m\u001b[43m_process_get_id\u001b[49m\u001b[43m,\u001b[49m\n\u001b[1;32m    239\u001b[0m \u001b[43m        \u001b[49m\u001b[43mdumps\u001b[49m\u001b[38;5;241;43m=\u001b[39;49m\u001b[43mdumps\u001b[49m\u001b[43m,\u001b[49m\n\u001b[1;32m    240\u001b[0m \u001b[43m        \u001b[49m\u001b[43mloads\u001b[49m\u001b[38;5;241;43m=\u001b[39;49m\u001b[43mloads\u001b[49m\u001b[43m,\u001b[49m\n\u001b[1;32m    241\u001b[0m \u001b[43m        \u001b[49m\u001b[43mpack_exception\u001b[49m\u001b[38;5;241;43m=\u001b[39;49m\u001b[43mpack_exception\u001b[49m\u001b[43m,\u001b[49m\n\u001b[1;32m    242\u001b[0m \u001b[43m        \u001b[49m\u001b[43mraise_exception\u001b[49m\u001b[38;5;241;43m=\u001b[39;49m\u001b[43mreraise\u001b[49m\u001b[43m,\u001b[49m\n\u001b[1;32m    243\u001b[0m \u001b[43m        \u001b[49m\u001b[43mchunksize\u001b[49m\u001b[38;5;241;43m=\u001b[39;49m\u001b[43mchunksize\u001b[49m\u001b[43m,\u001b[49m\n\u001b[1;32m    244\u001b[0m \u001b[43m        \u001b[49m\u001b[38;5;241;43m*\u001b[39;49m\u001b[38;5;241;43m*\u001b[39;49m\u001b[43mkwargs\u001b[49m\u001b[43m,\u001b[49m\n\u001b[1;32m    245\u001b[0m \u001b[43m    \u001b[49m\u001b[43m)\u001b[49m\n\u001b[1;32m    246\u001b[0m \u001b[38;5;28;01mfinally\u001b[39;00m:\n\u001b[1;32m    247\u001b[0m     \u001b[38;5;28;01mif\u001b[39;00m cleanup:\n",
      "File \u001b[0;32m/usr/local/lib/python3.8/site-packages/dask/local.py:511\u001b[0m, in \u001b[0;36mget_async\u001b[0;34m(submit, num_workers, dsk, result, cache, get_id, rerun_exceptions_locally, pack_exception, raise_exception, callbacks, dumps, loads, chunksize, **kwargs)\u001b[0m\n\u001b[1;32m    509\u001b[0m         _execute_task(task, data)  \u001b[38;5;66;03m# Re-execute locally\u001b[39;00m\n\u001b[1;32m    510\u001b[0m     \u001b[38;5;28;01melse\u001b[39;00m:\n\u001b[0;32m--> 511\u001b[0m         \u001b[43mraise_exception\u001b[49m\u001b[43m(\u001b[49m\u001b[43mexc\u001b[49m\u001b[43m,\u001b[49m\u001b[43m \u001b[49m\u001b[43mtb\u001b[49m\u001b[43m)\u001b[49m\n\u001b[1;32m    512\u001b[0m res, worker_id \u001b[38;5;241m=\u001b[39m loads(res_info)\n\u001b[1;32m    513\u001b[0m state[\u001b[38;5;124m\"\u001b[39m\u001b[38;5;124mcache\u001b[39m\u001b[38;5;124m\"\u001b[39m][key] \u001b[38;5;241m=\u001b[39m res\n",
      "File \u001b[0;32m/usr/local/lib/python3.8/site-packages/dask/multiprocessing.py:111\u001b[0m, in \u001b[0;36mreraise\u001b[0;34m(exc, tb)\u001b[0m\n\u001b[1;32m    109\u001b[0m \u001b[38;5;28;01mdef\u001b[39;00m \u001b[38;5;21mreraise\u001b[39m(exc, tb\u001b[38;5;241m=\u001b[39m\u001b[38;5;28;01mNone\u001b[39;00m):\n\u001b[1;32m    110\u001b[0m     exc \u001b[38;5;241m=\u001b[39m remote_exception(exc, tb)\n\u001b[0;32m--> 111\u001b[0m     \u001b[38;5;28;01mraise\u001b[39;00m exc\n",
      "\u001b[0;31mTypeError\u001b[0m: unsupported operand type(s) for +: 'dict' and 'int'\n\nTraceback\n---------\n  File \"/usr/local/lib/python3.8/site-packages/dask/local.py\", line 224, in execute_task\n    result = _execute_task(task, data)\n  File \"/usr/local/lib/python3.8/site-packages/dask/core.py\", line 119, in _execute_task\n    return func(*(_execute_task(a, cache) for a in args))\n  File \"/usr/local/lib/python3.8/site-packages/dask/bag/core.py\", line 2498, in empty_safe_aggregate\n    return empty_safe_apply(func, parts2, is_last)\n  File \"/usr/local/lib/python3.8/site-packages/dask/bag/core.py\", line 2489, in empty_safe_apply\n    return func(part)\n  File \"/usr/local/lib/python3.8/site-packages/toolz/functoolz.py\", line 304, in __call__\n    return self._partial(*args, **kwargs)\n  File \"/tmp/ipykernel_328/2781502800.py\", line 2, in suma_acumulativa\n"
     ]
    }
   ],
   "source": [
    "resultado_final = resultado_agregado.compute()"
   ]
  },
  {
   "cell_type": "code",
   "execution_count": null,
   "id": "162ed9be-decf-4b40-8aaa-055174444a65",
   "metadata": {},
   "outputs": [],
   "source": [
    "print(resultado_final)"
   ]
  },
  {
   "cell_type": "code",
   "execution_count": null,
   "id": "dce237c3-b61c-4b53-b40a-57ff201f0942",
   "metadata": {},
   "outputs": [],
   "source": []
  }
 ],
 "metadata": {
  "kernelspec": {
   "display_name": "Python 3 (ipykernel)",
   "language": "python",
   "name": "python3"
  },
  "language_info": {
   "codemirror_mode": {
    "name": "ipython",
    "version": 3
   },
   "file_extension": ".py",
   "mimetype": "text/x-python",
   "name": "python",
   "nbconvert_exporter": "python",
   "pygments_lexer": "ipython3",
   "version": "3.8.18"
  }
 },
 "nbformat": 4,
 "nbformat_minor": 5
}
