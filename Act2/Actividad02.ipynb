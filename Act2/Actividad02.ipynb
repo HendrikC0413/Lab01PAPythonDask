{
 "cells": [
  {
   "cell_type": "markdown",
   "id": "7abcef06-128c-4b1d-8974-9c17d1d56b0d",
   "metadata": {},
   "source": [
    "# Actividad 2: Manipulación de DataFrames con Dask\n",
    "1. Carga un conjunto de datos (a elección) en formato CSV en un Dask DataFrame.\n",
    "2. Realiza operaciones de manipulación de datos, como filtrado, agrupamiento y unión de DataFrames.\n",
    "3. Calcula estadísticas descriptivas en columnas numéricas."
   ]
  },
  {
   "cell_type": "markdown",
   "id": "c52b4581-e491-416a-822c-4a9f451b53e0",
   "metadata": {},
   "source": [
    "Primero que nada debemos importar la libreria de Dask **\"DataFrame\"**, y para visualizar **grapvhiz**, esto se hace de la siguiente manera:"
   ]
  },
  {
   "cell_type": "code",
   "execution_count": 1,
   "id": "c6f63362-57cb-4504-830c-4f10123de54b",
   "metadata": {},
   "outputs": [],
   "source": [
    "import dask.dataframe as dd\n",
    "import graphviz"
   ]
  },
  {
   "cell_type": "markdown",
   "id": "74b399e3-bc0a-4310-8acc-c45eb5491860",
   "metadata": {},
   "source": [
    "Ahora podemos cargar a traves de dd, el csv con el comando _**\"Dataframe.read_csv()\"**_, el nombre del archivo y la separación en mi caso es con \";\"."
   ]
  },
  {
   "cell_type": "code",
   "execution_count": 2,
   "id": "f679b338-53f2-4484-a276-383bc0a8b350",
   "metadata": {},
   "outputs": [],
   "source": [
    "df = dd.read_csv('temperatura_012023.csv',sep=';')"
   ]
  },
  {
   "cell_type": "markdown",
   "id": "336f5c16-f754-43f4-b9ad-c675d88c39f4",
   "metadata": {},
   "source": [
    "Vemos la carga:"
   ]
  },
  {
   "cell_type": "code",
   "execution_count": 3,
   "id": "d6a0595d-a975-4195-8ae2-64f875e7efd0",
   "metadata": {},
   "outputs": [
    {
     "data": {
      "text/html": [
       "<div>\n",
       "<style scoped>\n",
       "    .dataframe tbody tr th:only-of-type {\n",
       "        vertical-align: middle;\n",
       "    }\n",
       "\n",
       "    .dataframe tbody tr th {\n",
       "        vertical-align: top;\n",
       "    }\n",
       "\n",
       "    .dataframe thead th {\n",
       "        text-align: right;\n",
       "    }\n",
       "</style>\n",
       "<table border=\"1\" class=\"dataframe\">\n",
       "  <thead>\n",
       "    <tr style=\"text-align: right;\">\n",
       "      <th></th>\n",
       "      <th>ID</th>\n",
       "      <th>Lugar</th>\n",
       "      <th>Posicion</th>\n",
       "      <th>ID2</th>\n",
       "      <th>Anio</th>\n",
       "      <th>Mes</th>\n",
       "      <th>Dia</th>\n",
       "      <th>Tempmin</th>\n",
       "      <th>Tempmax</th>\n",
       "    </tr>\n",
       "  </thead>\n",
       "  <tbody>\n",
       "    <tr>\n",
       "      <th>0</th>\n",
       "      <td>180005</td>\n",
       "      <td>Chacalluta, Arica Ap.</td>\n",
       "      <td>18&amp;deg 21' 20'' S</td>\n",
       "      <td>50</td>\n",
       "      <td>2023</td>\n",
       "      <td>1</td>\n",
       "      <td>1</td>\n",
       "      <td>18.5</td>\n",
       "      <td>23.5</td>\n",
       "    </tr>\n",
       "    <tr>\n",
       "      <th>1</th>\n",
       "      <td>180005</td>\n",
       "      <td>Chacalluta, Arica Ap.</td>\n",
       "      <td>18&amp;deg 21' 20'' S</td>\n",
       "      <td>50</td>\n",
       "      <td>2023</td>\n",
       "      <td>1</td>\n",
       "      <td>2</td>\n",
       "      <td>18.2</td>\n",
       "      <td>24.0</td>\n",
       "    </tr>\n",
       "    <tr>\n",
       "      <th>2</th>\n",
       "      <td>180005</td>\n",
       "      <td>Chacalluta, Arica Ap.</td>\n",
       "      <td>18&amp;deg 21' 20'' S</td>\n",
       "      <td>50</td>\n",
       "      <td>2023</td>\n",
       "      <td>1</td>\n",
       "      <td>3</td>\n",
       "      <td>18.0</td>\n",
       "      <td>24.5</td>\n",
       "    </tr>\n",
       "    <tr>\n",
       "      <th>3</th>\n",
       "      <td>180005</td>\n",
       "      <td>Chacalluta, Arica Ap.</td>\n",
       "      <td>18&amp;deg 21' 20'' S</td>\n",
       "      <td>50</td>\n",
       "      <td>2023</td>\n",
       "      <td>1</td>\n",
       "      <td>4</td>\n",
       "      <td>18.1</td>\n",
       "      <td>25.6</td>\n",
       "    </tr>\n",
       "    <tr>\n",
       "      <th>4</th>\n",
       "      <td>180005</td>\n",
       "      <td>Chacalluta, Arica Ap.</td>\n",
       "      <td>18&amp;deg 21' 20'' S</td>\n",
       "      <td>50</td>\n",
       "      <td>2023</td>\n",
       "      <td>1</td>\n",
       "      <td>5</td>\n",
       "      <td>20.0</td>\n",
       "      <td>26.2</td>\n",
       "    </tr>\n",
       "  </tbody>\n",
       "</table>\n",
       "</div>"
      ],
      "text/plain": [
       "       ID                  Lugar           Posicion  ID2  Anio  Mes  Dia  \\\n",
       "0  180005  Chacalluta, Arica Ap.  18&deg 21' 20'' S   50  2023    1    1   \n",
       "1  180005  Chacalluta, Arica Ap.  18&deg 21' 20'' S   50  2023    1    2   \n",
       "2  180005  Chacalluta, Arica Ap.  18&deg 21' 20'' S   50  2023    1    3   \n",
       "3  180005  Chacalluta, Arica Ap.  18&deg 21' 20'' S   50  2023    1    4   \n",
       "4  180005  Chacalluta, Arica Ap.  18&deg 21' 20'' S   50  2023    1    5   \n",
       "\n",
       "   Tempmin  Tempmax  \n",
       "0     18.5     23.5  \n",
       "1     18.2     24.0  \n",
       "2     18.0     24.5  \n",
       "3     18.1     25.6  \n",
       "4     20.0     26.2  "
      ]
     },
     "execution_count": 3,
     "metadata": {},
     "output_type": "execute_result"
    }
   ],
   "source": [
    "df.head()"
   ]
  },
  {
   "cell_type": "markdown",
   "id": "54df58ab-5190-41bc-9994-2a242d328f12",
   "metadata": {},
   "source": [
    "Vemos el grafico que nos entrega este dataframe aun que no es nada fuera de lo común."
   ]
  },
  {
   "cell_type": "code",
   "execution_count": 4,
   "id": "ee935665-3226-4e65-9ef2-d1deb26ff1e7",
   "metadata": {},
   "outputs": [
    {
     "data": {
      "image/png": "[encoded data removed]",
      "text/plain": [
       "<IPython.core.display.Image object>"
      ]
     },
     "execution_count": 4,
     "metadata": {},
     "output_type": "execute_result"
    }
   ],
   "source": [
    "df.visualize(filename='dask.png')"
   ]
  },
  {
   "cell_type": "markdown",
   "id": "0f016667-f2b1-4ba9-93bf-f34d30d5ce5d",
   "metadata": {},
   "source": [
    "Ahora en mi caso usare la función _**compute()**_, esto es necesario para aplicarle las operaciones."
   ]
  },
  {
   "cell_type": "code",
   "execution_count": 5,
   "id": "e850a834-7d0d-4a2f-94b5-71e11fbd5896",
   "metadata": {},
   "outputs": [],
   "source": [
    "df_computado = df.compute()"
   ]
  },
  {
   "cell_type": "code",
   "execution_count": 6,
   "id": "a43fd81e-3956-48d3-861d-c8f89869ebcd",
   "metadata": {},
   "outputs": [
    {
     "data": {
      "text/html": [
       "<div>\n",
       "<style scoped>\n",
       "    .dataframe tbody tr th:only-of-type {\n",
       "        vertical-align: middle;\n",
       "    }\n",
       "\n",
       "    .dataframe tbody tr th {\n",
       "        vertical-align: top;\n",
       "    }\n",
       "\n",
       "    .dataframe thead th {\n",
       "        text-align: right;\n",
       "    }\n",
       "</style>\n",
       "<table border=\"1\" class=\"dataframe\">\n",
       "  <thead>\n",
       "    <tr style=\"text-align: right;\">\n",
       "      <th></th>\n",
       "      <th>ID</th>\n",
       "      <th>Lugar</th>\n",
       "      <th>Posicion</th>\n",
       "      <th>ID2</th>\n",
       "      <th>Anio</th>\n",
       "      <th>Mes</th>\n",
       "      <th>Dia</th>\n",
       "      <th>Tempmin</th>\n",
       "      <th>Tempmax</th>\n",
       "    </tr>\n",
       "  </thead>\n",
       "  <tbody>\n",
       "    <tr>\n",
       "      <th>0</th>\n",
       "      <td>180005</td>\n",
       "      <td>Chacalluta, Arica Ap.</td>\n",
       "      <td>18&amp;deg 21' 20'' S</td>\n",
       "      <td>50</td>\n",
       "      <td>2023</td>\n",
       "      <td>1</td>\n",
       "      <td>1</td>\n",
       "      <td>18.5</td>\n",
       "      <td>23.5</td>\n",
       "    </tr>\n",
       "    <tr>\n",
       "      <th>1</th>\n",
       "      <td>180005</td>\n",
       "      <td>Chacalluta, Arica Ap.</td>\n",
       "      <td>18&amp;deg 21' 20'' S</td>\n",
       "      <td>50</td>\n",
       "      <td>2023</td>\n",
       "      <td>1</td>\n",
       "      <td>2</td>\n",
       "      <td>18.2</td>\n",
       "      <td>24.0</td>\n",
       "    </tr>\n",
       "    <tr>\n",
       "      <th>2</th>\n",
       "      <td>180005</td>\n",
       "      <td>Chacalluta, Arica Ap.</td>\n",
       "      <td>18&amp;deg 21' 20'' S</td>\n",
       "      <td>50</td>\n",
       "      <td>2023</td>\n",
       "      <td>1</td>\n",
       "      <td>3</td>\n",
       "      <td>18.0</td>\n",
       "      <td>24.5</td>\n",
       "    </tr>\n",
       "    <tr>\n",
       "      <th>3</th>\n",
       "      <td>180005</td>\n",
       "      <td>Chacalluta, Arica Ap.</td>\n",
       "      <td>18&amp;deg 21' 20'' S</td>\n",
       "      <td>50</td>\n",
       "      <td>2023</td>\n",
       "      <td>1</td>\n",
       "      <td>4</td>\n",
       "      <td>18.1</td>\n",
       "      <td>25.6</td>\n",
       "    </tr>\n",
       "    <tr>\n",
       "      <th>4</th>\n",
       "      <td>180005</td>\n",
       "      <td>Chacalluta, Arica Ap.</td>\n",
       "      <td>18&amp;deg 21' 20'' S</td>\n",
       "      <td>50</td>\n",
       "      <td>2023</td>\n",
       "      <td>1</td>\n",
       "      <td>5</td>\n",
       "      <td>20.0</td>\n",
       "      <td>26.2</td>\n",
       "    </tr>\n",
       "  </tbody>\n",
       "</table>\n",
       "</div>"
      ],
      "text/plain": [
       "       ID                  Lugar           Posicion  ID2  Anio  Mes  Dia  \\\n",
       "0  180005  Chacalluta, Arica Ap.  18&deg 21' 20'' S   50  2023    1    1   \n",
       "1  180005  Chacalluta, Arica Ap.  18&deg 21' 20'' S   50  2023    1    2   \n",
       "2  180005  Chacalluta, Arica Ap.  18&deg 21' 20'' S   50  2023    1    3   \n",
       "3  180005  Chacalluta, Arica Ap.  18&deg 21' 20'' S   50  2023    1    4   \n",
       "4  180005  Chacalluta, Arica Ap.  18&deg 21' 20'' S   50  2023    1    5   \n",
       "\n",
       "   Tempmin  Tempmax  \n",
       "0     18.5     23.5  \n",
       "1     18.2     24.0  \n",
       "2     18.0     24.5  \n",
       "3     18.1     25.6  \n",
       "4     20.0     26.2  "
      ]
     },
     "execution_count": 6,
     "metadata": {},
     "output_type": "execute_result"
    }
   ],
   "source": [
    "df_computado.head()"
   ]
  },
  {
   "cell_type": "markdown",
   "id": "a0a6bd39-1766-42b3-a57c-862bc7074e79",
   "metadata": {},
   "source": [
    "Comprobamos el **promedio** de la temperatura minima, esto se hace a traves del comando **_\"mean()\"_**"
   ]
  },
  {
   "cell_type": "markdown",
   "id": "3ec23bc0-872e-4b9f-9a83-c7d2d5f2e014",
   "metadata": {},
   "source": [
    "df_computado.Tempmin.mean()"
   ]
  },
  {
   "cell_type": "markdown",
   "id": "6ac2a3c7-15ae-40a5-9233-b6735337613a",
   "metadata": {},
   "source": [
    "Realizamos el **filtro** buscando en este caso el lugar \"El Loa, Calama Ad\". y mostramos con head."
   ]
  },
  {
   "cell_type": "code",
   "execution_count": 7,
   "id": "4db2e096-8d9a-4e19-b36b-ced1c6c9cdd1",
   "metadata": {},
   "outputs": [
    {
     "data": {
      "text/html": [
       "<div>\n",
       "<style scoped>\n",
       "    .dataframe tbody tr th:only-of-type {\n",
       "        vertical-align: middle;\n",
       "    }\n",
       "\n",
       "    .dataframe tbody tr th {\n",
       "        vertical-align: top;\n",
       "    }\n",
       "\n",
       "    .dataframe thead th {\n",
       "        text-align: right;\n",
       "    }\n",
       "</style>\n",
       "<table border=\"1\" class=\"dataframe\">\n",
       "  <thead>\n",
       "    <tr style=\"text-align: right;\">\n",
       "      <th></th>\n",
       "      <th>ID</th>\n",
       "      <th>Lugar</th>\n",
       "      <th>Posicion</th>\n",
       "      <th>ID2</th>\n",
       "      <th>Anio</th>\n",
       "      <th>Mes</th>\n",
       "      <th>Dia</th>\n",
       "      <th>Tempmin</th>\n",
       "      <th>Tempmax</th>\n",
       "    </tr>\n",
       "  </thead>\n",
       "  <tbody>\n",
       "    <tr>\n",
       "      <th>62</th>\n",
       "      <td>220002</td>\n",
       "      <td>El Loa, Calama Ad.</td>\n",
       "      <td>22&amp;deg 29' 53'' S</td>\n",
       "      <td>2321</td>\n",
       "      <td>2023</td>\n",
       "      <td>1</td>\n",
       "      <td>1</td>\n",
       "      <td>4.7</td>\n",
       "      <td>23.9</td>\n",
       "    </tr>\n",
       "    <tr>\n",
       "      <th>63</th>\n",
       "      <td>220002</td>\n",
       "      <td>El Loa, Calama Ad.</td>\n",
       "      <td>22&amp;deg 29' 53'' S</td>\n",
       "      <td>2321</td>\n",
       "      <td>2023</td>\n",
       "      <td>1</td>\n",
       "      <td>2</td>\n",
       "      <td>3.8</td>\n",
       "      <td>23.0</td>\n",
       "    </tr>\n",
       "    <tr>\n",
       "      <th>64</th>\n",
       "      <td>220002</td>\n",
       "      <td>El Loa, Calama Ad.</td>\n",
       "      <td>22&amp;deg 29' 53'' S</td>\n",
       "      <td>2321</td>\n",
       "      <td>2023</td>\n",
       "      <td>1</td>\n",
       "      <td>3</td>\n",
       "      <td>5.1</td>\n",
       "      <td>23.7</td>\n",
       "    </tr>\n",
       "    <tr>\n",
       "      <th>65</th>\n",
       "      <td>220002</td>\n",
       "      <td>El Loa, Calama Ad.</td>\n",
       "      <td>22&amp;deg 29' 53'' S</td>\n",
       "      <td>2321</td>\n",
       "      <td>2023</td>\n",
       "      <td>1</td>\n",
       "      <td>4</td>\n",
       "      <td>6.3</td>\n",
       "      <td>23.6</td>\n",
       "    </tr>\n",
       "    <tr>\n",
       "      <th>66</th>\n",
       "      <td>220002</td>\n",
       "      <td>El Loa, Calama Ad.</td>\n",
       "      <td>22&amp;deg 29' 53'' S</td>\n",
       "      <td>2321</td>\n",
       "      <td>2023</td>\n",
       "      <td>1</td>\n",
       "      <td>5</td>\n",
       "      <td>6.5</td>\n",
       "      <td>22.0</td>\n",
       "    </tr>\n",
       "  </tbody>\n",
       "</table>\n",
       "</div>"
      ],
      "text/plain": [
       "        ID               Lugar           Posicion   ID2  Anio  Mes  Dia  \\\n",
       "62  220002  El Loa, Calama Ad.  22&deg 29' 53'' S  2321  2023    1    1   \n",
       "63  220002  El Loa, Calama Ad.  22&deg 29' 53'' S  2321  2023    1    2   \n",
       "64  220002  El Loa, Calama Ad.  22&deg 29' 53'' S  2321  2023    1    3   \n",
       "65  220002  El Loa, Calama Ad.  22&deg 29' 53'' S  2321  2023    1    4   \n",
       "66  220002  El Loa, Calama Ad.  22&deg 29' 53'' S  2321  2023    1    5   \n",
       "\n",
       "    Tempmin  Tempmax  \n",
       "62      4.7     23.9  \n",
       "63      3.8     23.0  \n",
       "64      5.1     23.7  \n",
       "65      6.3     23.6  \n",
       "66      6.5     22.0  "
      ]
     },
     "execution_count": 7,
     "metadata": {},
     "output_type": "execute_result"
    }
   ],
   "source": [
    "df_computado[df_computado.Lugar == 'El Loa, Calama Ad.'].head()"
   ]
  },
  {
   "cell_type": "markdown",
   "id": "a91c0947-b46e-402c-846f-5e6ff31ae0d9",
   "metadata": {},
   "source": [
    "Agrupamos a traves de **_groupby()_** \"ID\", \"Lugar\",\"Posicion\",\"ID2\",\"Anio\",\"Mes\" y lo demas lo dejamos para que calcule el promedio (el día se promedia tambien)"
   ]
  },
  {
   "cell_type": "code",
   "execution_count": 8,
   "id": "b5cf9f0c-739a-441b-8a7c-7c404d2fb374",
   "metadata": {},
   "outputs": [],
   "source": [
    "agrupado = df_computado.groupby([\"ID\", \"Lugar\",\"Posicion\",\"ID2\",\"Anio\",\"Mes\"]).mean()"
   ]
  },
  {
   "cell_type": "code",
   "execution_count": 9,
   "id": "005fc28d-e0ca-4cc3-83fc-778d97085c7f",
   "metadata": {},
   "outputs": [
    {
     "data": {
      "text/html": [
       "<div>\n",
       "<style scoped>\n",
       "    .dataframe tbody tr th:only-of-type {\n",
       "        vertical-align: middle;\n",
       "    }\n",
       "\n",
       "    .dataframe tbody tr th {\n",
       "        vertical-align: top;\n",
       "    }\n",
       "\n",
       "    .dataframe thead th {\n",
       "        text-align: right;\n",
       "    }\n",
       "</style>\n",
       "<table border=\"1\" class=\"dataframe\">\n",
       "  <thead>\n",
       "    <tr style=\"text-align: right;\">\n",
       "      <th></th>\n",
       "      <th></th>\n",
       "      <th></th>\n",
       "      <th></th>\n",
       "      <th></th>\n",
       "      <th></th>\n",
       "      <th>Dia</th>\n",
       "      <th>Tempmin</th>\n",
       "      <th>Tempmax</th>\n",
       "    </tr>\n",
       "    <tr>\n",
       "      <th>ID</th>\n",
       "      <th>Lugar</th>\n",
       "      <th>Posicion</th>\n",
       "      <th>ID2</th>\n",
       "      <th>Anio</th>\n",
       "      <th>Mes</th>\n",
       "      <th></th>\n",
       "      <th></th>\n",
       "      <th></th>\n",
       "    </tr>\n",
       "  </thead>\n",
       "  <tbody>\n",
       "    <tr>\n",
       "      <th>180005</th>\n",
       "      <th>Chacalluta, Arica Ap.</th>\n",
       "      <th>18&amp;deg 21' 20'' S</th>\n",
       "      <th>50</th>\n",
       "      <th>2023</th>\n",
       "      <th>1</th>\n",
       "      <td>16.0</td>\n",
       "      <td>18.900000</td>\n",
       "      <td>25.235484</td>\n",
       "    </tr>\n",
       "    <tr>\n",
       "      <th>200006</th>\n",
       "      <th>Diego Aracena Iquique Ap.</th>\n",
       "      <th>20&amp;deg 32' 57'' S</th>\n",
       "      <th>48</th>\n",
       "      <th>2023</th>\n",
       "      <th>1</th>\n",
       "      <td>16.0</td>\n",
       "      <td>18.416129</td>\n",
       "      <td>25.429032</td>\n",
       "    </tr>\n",
       "    <tr>\n",
       "      <th>220002</th>\n",
       "      <th>El Loa, Calama Ad.</th>\n",
       "      <th>22&amp;deg 29' 53'' S</th>\n",
       "      <th>2321</th>\n",
       "      <th>2023</th>\n",
       "      <th>1</th>\n",
       "      <td>16.0</td>\n",
       "      <td>6.138710</td>\n",
       "      <td>24.312903</td>\n",
       "    </tr>\n",
       "    <tr>\n",
       "      <th>230001</th>\n",
       "      <th>Cerro Moreno  Antofagasta  Ap.</th>\n",
       "      <th>23&amp;deg 27' 13'' S</th>\n",
       "      <th>112</th>\n",
       "      <th>2023</th>\n",
       "      <th>1</th>\n",
       "      <td>16.0</td>\n",
       "      <td>17.025806</td>\n",
       "      <td>22.503226</td>\n",
       "    </tr>\n",
       "    <tr>\n",
       "      <th>270001</th>\n",
       "      <th>Mataveri  Isla de Pascua Ap.</th>\n",
       "      <th>27&amp;deg 9' 32'' S</th>\n",
       "      <th>44</th>\n",
       "      <th>2023</th>\n",
       "      <th>1</th>\n",
       "      <td>16.0</td>\n",
       "      <td>20.103226</td>\n",
       "      <td>27.503226</td>\n",
       "    </tr>\n",
       "  </tbody>\n",
       "</table>\n",
       "</div>"
      ],
      "text/plain": [
       "                                                                        Dia  \\\n",
       "ID     Lugar                          Posicion          ID2  Anio Mes         \n",
       "180005 Chacalluta, Arica Ap.          18&deg 21' 20'' S 50   2023 1    16.0   \n",
       "200006 Diego Aracena Iquique Ap.      20&deg 32' 57'' S 48   2023 1    16.0   \n",
       "220002 El Loa, Calama Ad.             22&deg 29' 53'' S 2321 2023 1    16.0   \n",
       "230001 Cerro Moreno  Antofagasta  Ap. 23&deg 27' 13'' S 112  2023 1    16.0   \n",
       "270001 Mataveri  Isla de Pascua Ap.   27&deg 9' 32'' S  44   2023 1    16.0   \n",
       "\n",
       "                                                                         Tempmin  \\\n",
       "ID     Lugar                          Posicion          ID2  Anio Mes              \n",
       "180005 Chacalluta, Arica Ap.          18&deg 21' 20'' S 50   2023 1    18.900000   \n",
       "200006 Diego Aracena Iquique Ap.      20&deg 32' 57'' S 48   2023 1    18.416129   \n",
       "220002 El Loa, Calama Ad.             22&deg 29' 53'' S 2321 2023 1     6.138710   \n",
       "230001 Cerro Moreno  Antofagasta  Ap. 23&deg 27' 13'' S 112  2023 1    17.025806   \n",
       "270001 Mataveri  Isla de Pascua Ap.   27&deg 9' 32'' S  44   2023 1    20.103226   \n",
       "\n",
       "                                                                         Tempmax  \n",
       "ID     Lugar                          Posicion          ID2  Anio Mes             \n",
       "180005 Chacalluta, Arica Ap.          18&deg 21' 20'' S 50   2023 1    25.235484  \n",
       "200006 Diego Aracena Iquique Ap.      20&deg 32' 57'' S 48   2023 1    25.429032  \n",
       "220002 El Loa, Calama Ad.             22&deg 29' 53'' S 2321 2023 1    24.312903  \n",
       "230001 Cerro Moreno  Antofagasta  Ap. 23&deg 27' 13'' S 112  2023 1    22.503226  \n",
       "270001 Mataveri  Isla de Pascua Ap.   27&deg 9' 32'' S  44   2023 1    27.503226  "
      ]
     },
     "execution_count": 9,
     "metadata": {},
     "output_type": "execute_result"
    }
   ],
   "source": [
    "agrupado.head()"
   ]
  },
  {
   "cell_type": "markdown",
   "id": "1233fe6e-b3cc-469e-9635-e227f5291af5",
   "metadata": {},
   "source": [
    "Para la siguiente parte, necesitamos leer **otro csv**. Por lo cual realizamos las mismas opereaciones ya mencionadas con anterioridad."
   ]
  },
  {
   "cell_type": "code",
   "execution_count": 10,
   "id": "635c2293-cda8-4f69-af44-8b370ba8929d",
   "metadata": {},
   "outputs": [],
   "source": [
    "otro = dd.read_csv('precipitacion_012023.csv',sep=';')"
   ]
  },
  {
   "cell_type": "code",
   "execution_count": 11,
   "id": "c8cc9295-fc79-473c-8dcc-23081a5bd992",
   "metadata": {},
   "outputs": [],
   "source": [
    "otro_computado = otro.compute()"
   ]
  },
  {
   "cell_type": "code",
   "execution_count": 12,
   "id": "f8cb1315-d3f9-48bd-8bdb-f6b150b27289",
   "metadata": {},
   "outputs": [
    {
     "data": {
      "text/html": [
       "<div>\n",
       "<style scoped>\n",
       "    .dataframe tbody tr th:only-of-type {\n",
       "        vertical-align: middle;\n",
       "    }\n",
       "\n",
       "    .dataframe tbody tr th {\n",
       "        vertical-align: top;\n",
       "    }\n",
       "\n",
       "    .dataframe thead th {\n",
       "        text-align: right;\n",
       "    }\n",
       "</style>\n",
       "<table border=\"1\" class=\"dataframe\">\n",
       "  <thead>\n",
       "    <tr style=\"text-align: right;\">\n",
       "      <th></th>\n",
       "      <th>ID</th>\n",
       "      <th>Lugar</th>\n",
       "      <th>Posicion</th>\n",
       "      <th>ID2</th>\n",
       "      <th>Anio</th>\n",
       "      <th>Mes</th>\n",
       "      <th>Dia</th>\n",
       "      <th>precipitaciones</th>\n",
       "    </tr>\n",
       "  </thead>\n",
       "  <tbody>\n",
       "    <tr>\n",
       "      <th>0</th>\n",
       "      <td>180005</td>\n",
       "      <td>Chacalluta, Arica Ap.</td>\n",
       "      <td>18&amp;deg 21' 20'' S</td>\n",
       "      <td>50</td>\n",
       "      <td>2023</td>\n",
       "      <td>1</td>\n",
       "      <td>1</td>\n",
       "      <td>0.0</td>\n",
       "    </tr>\n",
       "    <tr>\n",
       "      <th>1</th>\n",
       "      <td>180005</td>\n",
       "      <td>Chacalluta, Arica Ap.</td>\n",
       "      <td>18&amp;deg 21' 20'' S</td>\n",
       "      <td>50</td>\n",
       "      <td>2023</td>\n",
       "      <td>1</td>\n",
       "      <td>2</td>\n",
       "      <td>0.0</td>\n",
       "    </tr>\n",
       "    <tr>\n",
       "      <th>2</th>\n",
       "      <td>180005</td>\n",
       "      <td>Chacalluta, Arica Ap.</td>\n",
       "      <td>18&amp;deg 21' 20'' S</td>\n",
       "      <td>50</td>\n",
       "      <td>2023</td>\n",
       "      <td>1</td>\n",
       "      <td>3</td>\n",
       "      <td>0.0</td>\n",
       "    </tr>\n",
       "    <tr>\n",
       "      <th>3</th>\n",
       "      <td>180005</td>\n",
       "      <td>Chacalluta, Arica Ap.</td>\n",
       "      <td>18&amp;deg 21' 20'' S</td>\n",
       "      <td>50</td>\n",
       "      <td>2023</td>\n",
       "      <td>1</td>\n",
       "      <td>4</td>\n",
       "      <td>0.0</td>\n",
       "    </tr>\n",
       "    <tr>\n",
       "      <th>4</th>\n",
       "      <td>180005</td>\n",
       "      <td>Chacalluta, Arica Ap.</td>\n",
       "      <td>18&amp;deg 21' 20'' S</td>\n",
       "      <td>50</td>\n",
       "      <td>2023</td>\n",
       "      <td>1</td>\n",
       "      <td>5</td>\n",
       "      <td>0.0</td>\n",
       "    </tr>\n",
       "  </tbody>\n",
       "</table>\n",
       "</div>"
      ],
      "text/plain": [
       "       ID                  Lugar           Posicion  ID2  Anio  Mes  Dia  \\\n",
       "0  180005  Chacalluta, Arica Ap.  18&deg 21' 20'' S   50  2023    1    1   \n",
       "1  180005  Chacalluta, Arica Ap.  18&deg 21' 20'' S   50  2023    1    2   \n",
       "2  180005  Chacalluta, Arica Ap.  18&deg 21' 20'' S   50  2023    1    3   \n",
       "3  180005  Chacalluta, Arica Ap.  18&deg 21' 20'' S   50  2023    1    4   \n",
       "4  180005  Chacalluta, Arica Ap.  18&deg 21' 20'' S   50  2023    1    5   \n",
       "\n",
       "   precipitaciones  \n",
       "0              0.0  \n",
       "1              0.0  \n",
       "2              0.0  \n",
       "3              0.0  \n",
       "4              0.0  "
      ]
     },
     "execution_count": 12,
     "metadata": {},
     "output_type": "execute_result"
    }
   ],
   "source": [
    "otro_computado.head()"
   ]
  },
  {
   "cell_type": "markdown",
   "id": "2aa6c8d5-9c8a-4de2-beab-cd61a0d9ff69",
   "metadata": {},
   "source": [
    "Utilizamos un _**Dataframe.merge()**_, similar como en sql, para poder hacer un inner join on las columnas comunes y que nos dejen las tempmin, tempmax y precipitaciones aparte"
   ]
  },
  {
   "cell_type": "code",
   "execution_count": 13,
   "id": "00ef6a48-16f1-4935-bdd9-65d66174c58b",
   "metadata": {},
   "outputs": [],
   "source": [
    "df_unido = df_computado.merge(otro_computado,on=[\"ID\",\"Lugar\",\"Posicion\",\"ID2\",\"Anio\",\"Mes\",\"Dia\"])"
   ]
  },
  {
   "cell_type": "code",
   "execution_count": 14,
   "id": "d144d3d6-e41c-4d8f-952c-6623aefa1a89",
   "metadata": {},
   "outputs": [
    {
     "data": {
      "text/html": [
       "<div>\n",
       "<style scoped>\n",
       "    .dataframe tbody tr th:only-of-type {\n",
       "        vertical-align: middle;\n",
       "    }\n",
       "\n",
       "    .dataframe tbody tr th {\n",
       "        vertical-align: top;\n",
       "    }\n",
       "\n",
       "    .dataframe thead th {\n",
       "        text-align: right;\n",
       "    }\n",
       "</style>\n",
       "<table border=\"1\" class=\"dataframe\">\n",
       "  <thead>\n",
       "    <tr style=\"text-align: right;\">\n",
       "      <th></th>\n",
       "      <th>ID</th>\n",
       "      <th>Lugar</th>\n",
       "      <th>Posicion</th>\n",
       "      <th>ID2</th>\n",
       "      <th>Anio</th>\n",
       "      <th>Mes</th>\n",
       "      <th>Dia</th>\n",
       "      <th>Tempmin</th>\n",
       "      <th>Tempmax</th>\n",
       "      <th>precipitaciones</th>\n",
       "    </tr>\n",
       "  </thead>\n",
       "  <tbody>\n",
       "    <tr>\n",
       "      <th>0</th>\n",
       "      <td>180005</td>\n",
       "      <td>Chacalluta, Arica Ap.</td>\n",
       "      <td>18&amp;deg 21' 20'' S</td>\n",
       "      <td>50</td>\n",
       "      <td>2023</td>\n",
       "      <td>1</td>\n",
       "      <td>1</td>\n",
       "      <td>18.5</td>\n",
       "      <td>23.5</td>\n",
       "      <td>0.0</td>\n",
       "    </tr>\n",
       "    <tr>\n",
       "      <th>1</th>\n",
       "      <td>180005</td>\n",
       "      <td>Chacalluta, Arica Ap.</td>\n",
       "      <td>18&amp;deg 21' 20'' S</td>\n",
       "      <td>50</td>\n",
       "      <td>2023</td>\n",
       "      <td>1</td>\n",
       "      <td>2</td>\n",
       "      <td>18.2</td>\n",
       "      <td>24.0</td>\n",
       "      <td>0.0</td>\n",
       "    </tr>\n",
       "    <tr>\n",
       "      <th>2</th>\n",
       "      <td>180005</td>\n",
       "      <td>Chacalluta, Arica Ap.</td>\n",
       "      <td>18&amp;deg 21' 20'' S</td>\n",
       "      <td>50</td>\n",
       "      <td>2023</td>\n",
       "      <td>1</td>\n",
       "      <td>3</td>\n",
       "      <td>18.0</td>\n",
       "      <td>24.5</td>\n",
       "      <td>0.0</td>\n",
       "    </tr>\n",
       "    <tr>\n",
       "      <th>3</th>\n",
       "      <td>180005</td>\n",
       "      <td>Chacalluta, Arica Ap.</td>\n",
       "      <td>18&amp;deg 21' 20'' S</td>\n",
       "      <td>50</td>\n",
       "      <td>2023</td>\n",
       "      <td>1</td>\n",
       "      <td>4</td>\n",
       "      <td>18.1</td>\n",
       "      <td>25.6</td>\n",
       "      <td>0.0</td>\n",
       "    </tr>\n",
       "    <tr>\n",
       "      <th>4</th>\n",
       "      <td>180005</td>\n",
       "      <td>Chacalluta, Arica Ap.</td>\n",
       "      <td>18&amp;deg 21' 20'' S</td>\n",
       "      <td>50</td>\n",
       "      <td>2023</td>\n",
       "      <td>1</td>\n",
       "      <td>5</td>\n",
       "      <td>20.0</td>\n",
       "      <td>26.2</td>\n",
       "      <td>0.0</td>\n",
       "    </tr>\n",
       "  </tbody>\n",
       "</table>\n",
       "</div>"
      ],
      "text/plain": [
       "       ID                  Lugar           Posicion  ID2  Anio  Mes  Dia  \\\n",
       "0  180005  Chacalluta, Arica Ap.  18&deg 21' 20'' S   50  2023    1    1   \n",
       "1  180005  Chacalluta, Arica Ap.  18&deg 21' 20'' S   50  2023    1    2   \n",
       "2  180005  Chacalluta, Arica Ap.  18&deg 21' 20'' S   50  2023    1    3   \n",
       "3  180005  Chacalluta, Arica Ap.  18&deg 21' 20'' S   50  2023    1    4   \n",
       "4  180005  Chacalluta, Arica Ap.  18&deg 21' 20'' S   50  2023    1    5   \n",
       "\n",
       "   Tempmin  Tempmax  precipitaciones  \n",
       "0     18.5     23.5              0.0  \n",
       "1     18.2     24.0              0.0  \n",
       "2     18.0     24.5              0.0  \n",
       "3     18.1     25.6              0.0  \n",
       "4     20.0     26.2              0.0  "
      ]
     },
     "execution_count": 14,
     "metadata": {},
     "output_type": "execute_result"
    }
   ],
   "source": [
    "df_unido.head()"
   ]
  },
  {
   "cell_type": "markdown",
   "id": "84562e23-b6fe-46c8-9644-c57536b5f93e",
   "metadata": {},
   "source": [
    "Para obtener la mediana utilizamos **_median()_**."
   ]
  },
  {
   "cell_type": "code",
   "execution_count": 19,
   "id": "a4a34904-004b-44d6-b661-b830eed20577",
   "metadata": {},
   "outputs": [
    {
     "data": {
      "text/plain": [
       "11.4"
      ]
     },
     "execution_count": 19,
     "metadata": {},
     "output_type": "execute_result"
    }
   ],
   "source": [
    "df_unido.Tempmin.median()"
   ]
  },
  {
   "cell_type": "markdown",
   "id": "a242aa26-c7d2-4611-9663-e02f28d80494",
   "metadata": {},
   "source": [
    "Para obtener la desviacion standar **_std()_**"
   ]
  },
  {
   "cell_type": "code",
   "execution_count": 16,
   "id": "26f0dfb7-b813-4f50-be38-03e20bbe5aa3",
   "metadata": {},
   "outputs": [
    {
     "data": {
      "text/plain": [
       "6.223299171930014"
      ]
     },
     "execution_count": 16,
     "metadata": {},
     "output_type": "execute_result"
    }
   ],
   "source": [
    "df_unido.Tempmax.std()"
   ]
  },
  {
   "cell_type": "markdown",
   "id": "f0942223-25e8-4cfd-8461-f8e2cceded93",
   "metadata": {},
   "source": [
    "Para sacar la moda _**mode()**_"
   ]
  },
  {
   "cell_type": "code",
   "execution_count": 17,
   "id": "f3f19752-ef83-4acd-ba9e-3a848a1036e2",
   "metadata": {},
   "outputs": [
    {
     "data": {
      "text/plain": [
       "0    0.0\n",
       "Name: precipitaciones, dtype: float64"
      ]
     },
     "execution_count": 17,
     "metadata": {},
     "output_type": "execute_result"
    }
   ],
   "source": [
    "df_unido.precipitaciones.mode()"
   ]
  }
 ],
 "metadata": {
  "kernelspec": {
   "display_name": "Python 3 (ipykernel)",
   "language": "python",
   "name": "python3"
  },
  "language_info": {
   "codemirror_mode": {
    "name": "ipython",
    "version": 3
   },
   "file_extension": ".py",
   "mimetype": "text/x-python",
   "name": "python",
   "nbconvert_exporter": "python",
   "pygments_lexer": "ipython3",
   "version": "3.8.18"
  }
 },
 "nbformat": 4,
 "nbformat_minor": 5
}
